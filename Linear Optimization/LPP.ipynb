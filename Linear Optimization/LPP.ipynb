{
 "cells": [
  {
   "cell_type": "code",
   "execution_count": 2,
   "metadata": {},
   "outputs": [
    {
     "name": "stdout",
     "output_type": "stream",
     "text": [
      "Collecting pulp\n",
      "  Downloading PuLP-2.6.0-py3-none-any.whl (14.2 MB)\n",
      "Installing collected packages: pulp\n",
      "Successfully installed pulp-2.6.0\n"
     ]
    },
    {
     "name": "stderr",
     "output_type": "stream",
     "text": [
      "WARNING: You are using pip version 21.3.1; however, version 22.2.1 is available.\n",
      "You should consider upgrading via the 'C:\\Users\\Lenovo\\anaconda3\\python.exe -m pip install --upgrade pip' command.\n"
     ]
    }
   ],
   "source": [
    "# import sys \n",
    "# !{sys.executable} -m pip install pulp"
   ]
  },
  {
   "cell_type": "code",
   "execution_count": 1,
   "metadata": {},
   "outputs": [],
   "source": [
    "import pulp as p"
   ]
  },
  {
   "cell_type": "markdown",
   "metadata": {},
   "source": [
    "## 2 variables LPP"
   ]
  },
  {
   "cell_type": "markdown",
   "metadata": {},
   "source": [
    "### `Maximization LPP`"
   ]
  },
  {
   "cell_type": "code",
   "execution_count": 11,
   "metadata": {},
   "outputs": [
    {
     "name": "stdout",
     "output_type": "stream",
     "text": [
      "Problem:\n",
      "MAXIMIZE\n",
      "8*x + 6*y + 0\n",
      "SUBJECT TO\n",
      "_C1: 4 x + 2 y <= 60\n",
      "\n",
      "_C2: 2 x + 4 y <= 48\n",
      "\n",
      "VARIABLES\n",
      "x Continuous\n",
      "y Continuous\n",
      "\n",
      "Optimal\n",
      "Optimum x value: 12.0\n",
      " Optimum y value : 6.0\n",
      " Optimum func value: 132.0\n"
     ]
    }
   ],
   "source": [
    "# Create a LP Maximization problem\n",
    "Lp_prob = p.LpProblem('Problem', p.LpMaximize) \n",
    "  \n",
    "# Create problem Variables \n",
    "x = p.LpVariable(\"x\", lowBound = 0)   # Create a variable x >= 0\n",
    "y = p.LpVariable(\"y\", lowBound = 0)   # Create a variable y >= 0\n",
    "  \n",
    "# Objective Function\n",
    "Lp_prob += 8 * x + 6 * y   \n",
    "  \n",
    "# Constraints:\n",
    "Lp_prob += 4 * x + 2 * y <= 60\n",
    "Lp_prob += 2 * x + 4 * y <= 48\n",
    "  \n",
    "# Display the problem\n",
    "print(Lp_prob)\n",
    "  \n",
    "status = Lp_prob.solve()   # Solver\n",
    "print(p.LpStatus[status])   # The solution status\n",
    "  \n",
    "# Printing the final solution\n",
    "print('Optimum x value: {}\\n Optimum y value : {}\\n Optimum func value: {}'.format(p.value(x), p.value(y), p.value(Lp_prob.objective)))"
   ]
  },
  {
   "cell_type": "code",
   "execution_count": 6,
   "metadata": {},
   "outputs": [
    {
     "data": {
      "image/png": "[encoded data removed]",
      "text/plain": [
       "<Figure size 432x288 with 1 Axes>"
      ]
     },
     "metadata": {
      "needs_background": "light"
     },
     "output_type": "display_data"
    }
   ],
   "source": [
    "import numpy as np\n",
    "import matplotlib.pyplot as plt\n",
    "\n",
    "\n",
    "d = np.linspace(-2,16,300)\n",
    "x,y = np.meshgrid(d,d)\n",
    "\n",
    "plt.imshow( ((2*y<=60-4*x) & (4*y<=48-2*x)).astype(int) , \n",
    "                extent=(x.min(),x.max(),y.min(),y.max()),origin=\"lower\", cmap=\"Reds\", alpha = 0.2)\n",
    "x = np.linspace(0, 16, 2000)\n",
    "\n",
    "# 2y <= 60 - 4x\n",
    "y2 = (60-4*x)/2.0\n",
    "\n",
    "#4y <= 48 - 2x\n",
    "y3 = (48-2*x)/4.0\n",
    "\n",
    "plt.plot(x, y2, label=r'$2y\\leq 60-4x$')\n",
    "plt.plot(x, y3, label=r'$4y\\leq 48 - 2x$')\n",
    "plt.xlim(0,16)\n",
    "plt.ylim(0,11)\n",
    "plt.legend(bbox_to_anchor=(1.05, 1), loc=2, borderaxespad=0.)\n",
    "plt.xlabel(r'$x$')\n",
    "plt.ylabel(r'$y$')\n",
    "plt.show()"
   ]
  },
  {
   "cell_type": "markdown",
   "metadata": {},
   "source": [
    "### `Minimization LPP`"
   ]
  },
  {
   "cell_type": "code",
   "execution_count": 12,
   "metadata": {},
   "outputs": [
    {
     "name": "stdout",
     "output_type": "stream",
     "text": [
      "Problem:\n",
      "MINIMIZE\n",
      "0.6*x + 1*y + 0.0\n",
      "SUBJECT TO\n",
      "_C1: 10 x + 4 y >= 20\n",
      "\n",
      "_C2: 5 x + 5 y >= 20\n",
      "\n",
      "_C3: 2 x + 6 y >= 12\n",
      "\n",
      "VARIABLES\n",
      "x Continuous\n",
      "y Continuous\n",
      "\n",
      "Optimal\n",
      "Optimum x value: 3.0\n",
      " Optimum y value : 1.0\n",
      " Optimum func value: 2.8\n"
     ]
    }
   ],
   "source": [
    "# Create a LP Minimization problem\n",
    "Lp_prob = p.LpProblem('Problem', p.LpMinimize) \n",
    "  \n",
    "# Create problem Variables \n",
    "x = p.LpVariable(\"x\", lowBound = 0)   # Create a variable x >= 0\n",
    "y = p.LpVariable(\"y\", lowBound = 0)   # Create a variable y >= 0\n",
    "  \n",
    "# Objective Function\n",
    "Lp_prob += 0.6 * x + 1 * y   \n",
    "  \n",
    "# Constraints:\n",
    "Lp_prob += 10 * x + 4 * y >= 20\n",
    "Lp_prob += 5 * x + 5 * y >= 20\n",
    "Lp_prob += 2 * x + 6 * y >= 12\n",
    "  \n",
    "# Display the problem\n",
    "print(Lp_prob)\n",
    "  \n",
    "status = Lp_prob.solve()   # Solver\n",
    "print(p.LpStatus[status])   # The solution status\n",
    "  \n",
    "# Printing the final solution\n",
    "print('Optimum x value: {}\\n Optimum y value : {}\\n Optimum func value: {}'.format(p.value(x), p.value(y), p.value(Lp_prob.objective)))"
   ]
  },
  {
   "cell_type": "code",
   "execution_count": 30,
   "metadata": {},
   "outputs": [
    {
     "data": {
      "image/png": "[encoded data removed]",
      "text/plain": [
       "<Figure size 432x288 with 1 Axes>"
      ]
     },
     "metadata": {
      "needs_background": "light"
     },
     "output_type": "display_data"
    }
   ],
   "source": [
    "import numpy as np\n",
    "import matplotlib.pyplot as plt\n",
    "\n",
    "\n",
    "d = np.linspace(-2,16,300)\n",
    "x,y = np.meshgrid(d,d)\n",
    "\n",
    "plt.imshow( ((4*y >= 20-10*x) & (5*y >= 20-5*x) & (6*y >= 12-2*x)).astype(int) , \n",
    "                extent=(x.min(),x.max(),y.min(),y.max()),origin=\"lower\", cmap=\"Reds\", alpha = 0.2)\n",
    "x = np.linspace(0, 16, 2000)\n",
    "\n",
    "# 4y >= 20 - 10x\n",
    "y2 = (20-10*x)/4.0\n",
    "\n",
    "#5y >= 20 - 5x\n",
    "y3 = (20-5*x)/5.0\n",
    "\n",
    "#6y >= 12 * 2x\n",
    "y4 = (12-2*x)/6.0\n",
    "\n",
    "plt.plot(x, y2, label=r'$4y\\geq 20-10x$')\n",
    "plt.plot(x, y3, label=r'$5y\\geq 20-5x$')\n",
    "plt.plot(x, y4, label=r'$6y\\geq 12-2x$')\n",
    "plt.xlim(0,16)\n",
    "plt.ylim(0,11)\n",
    "plt.legend(bbox_to_anchor=(1.05, 1), loc=2, borderaxespad=0.)\n",
    "plt.xlabel(r'$x$')\n",
    "plt.ylabel(r'$y$')\n",
    "plt.show()"
   ]
  },
  {
   "cell_type": "markdown",
   "metadata": {},
   "source": [
    "### `Unbounded LPP`"
   ]
  },
  {
   "cell_type": "code",
   "execution_count": 31,
   "metadata": {},
   "outputs": [
    {
     "name": "stdout",
     "output_type": "stream",
     "text": [
      "Problem:\n",
      "MAXIMIZE\n",
      "10*x + 20*y + 0\n",
      "SUBJECT TO\n",
      "_C1: x + 1.5 y >= 3\n",
      "\n",
      "_C2: 8 x + 2 y >= 8\n",
      "\n",
      "VARIABLES\n",
      "x Continuous\n",
      "y Continuous\n",
      "\n",
      "Unbounded\n",
      "0.0 0.0 0.0\n"
     ]
    }
   ],
   "source": [
    "# Create a LP Maximization problem\n",
    "Lp_prob = p.LpProblem('Problem', p.LpMaximize) \n",
    "  \n",
    "# Create problem Variables \n",
    "x = p.LpVariable(\"x\", lowBound = 0)   # Create a variable x >= 0\n",
    "y = p.LpVariable(\"y\", lowBound = 0)   # Create a variable y >= 0\n",
    "  \n",
    "# Objective Function\n",
    "Lp_prob += 10 * x + 20 * y   \n",
    "  \n",
    "# Constraints:\n",
    "Lp_prob += 1 * x + 1.5 * y >= 3\n",
    "Lp_prob += 8 * x + 2 * y >= 8\n",
    "  \n",
    "# Display the problem\n",
    "print(Lp_prob)\n",
    "  \n",
    "status = Lp_prob.solve()   # Solver\n",
    "print(p.LpStatus[status])   # The solution status\n",
    "  \n",
    "# Printing the final solution\n",
    "print(p.value(x), p.value(y), p.value(Lp_prob.objective))"
   ]
  },
  {
   "cell_type": "code",
   "execution_count": 32,
   "metadata": {},
   "outputs": [
    {
     "data": {
      "image/png": "[encoded data removed]",
      "text/plain": [
       "<Figure size 432x288 with 1 Axes>"
      ]
     },
     "metadata": {
      "needs_background": "light"
     },
     "output_type": "display_data"
    }
   ],
   "source": [
    "import numpy as np\n",
    "import matplotlib.pyplot as plt\n",
    "\n",
    "\n",
    "d = np.linspace(-2,16,300)\n",
    "x,y = np.meshgrid(d,d)\n",
    "\n",
    "plt.imshow( ((1.5*y >= 3-x) & (2*y >= 8-8*x)).astype(int) , \n",
    "                extent=(x.min(),x.max(),y.min(),y.max()),origin=\"lower\", cmap=\"Reds\", alpha = 0.2)\n",
    "x = np.linspace(0, 16, 2000)\n",
    "\n",
    "# 1.5y >= 3 - x\n",
    "y2 = (3-x)/1.5\n",
    "\n",
    "#2y >= 8 - 8x\n",
    "y3 = (8-8*x)/2.0\n",
    "\n",
    "\n",
    "plt.plot(x, y2, label=r'$4y\\geq 20-10x$')\n",
    "plt.plot(x, y3, label=r'$5y\\geq 20-5x$')\n",
    "plt.xlim(0,16)\n",
    "plt.ylim(0,11)\n",
    "plt.legend(bbox_to_anchor=(1.05, 1), loc=2, borderaxespad=0.)\n",
    "plt.xlabel(r'$x$')\n",
    "plt.ylabel(r'$y$')\n",
    "plt.show()"
   ]
  },
  {
   "cell_type": "markdown",
   "metadata": {},
   "source": [
    "## >2 variables LPP"
   ]
  },
  {
   "cell_type": "code",
   "execution_count": 34,
   "metadata": {},
   "outputs": [
    {
     "name": "stdout",
     "output_type": "stream",
     "text": [
      "Problem:\n",
      "MAXIMIZE\n",
      "5*x + 10*y + 8*z + 0\n",
      "SUBJECT TO\n",
      "_C1: 3 x + 5 y + 2 z <= 60\n",
      "\n",
      "_C2: 4 x + 4 y + 4 z <= 72\n",
      "\n",
      "_C3: 2 x + 4 y + 5 z <= 100\n",
      "\n",
      "VARIABLES\n",
      "x Continuous\n",
      "y Continuous\n",
      "z Continuous\n",
      "\n",
      "Optimal\n",
      "Optimum x value: 0.0\n",
      " Optimum y value : 8.0\n",
      " Optimum func value: 160.0\n"
     ]
    }
   ],
   "source": [
    "# Create a LP Maximization problem\n",
    "Lp_prob = p.LpProblem('Problem', p.LpMaximize) \n",
    "  \n",
    "# Create problem Variables \n",
    "x = p.LpVariable(\"x\", lowBound = 0)   # Create a variable x >= 0\n",
    "y = p.LpVariable(\"y\", lowBound = 0)   # Create a variable y >= 0\n",
    "z = p.LpVariable(\"z\", lowBound = 0)   # Create a variable z >= 0\n",
    "  \n",
    "# Objective Function\n",
    "Lp_prob += 5 * x + 10 * y + 8 * z   \n",
    "  \n",
    "# Constraints:\n",
    "Lp_prob += 3 * x + 5 * y + 2 * z <= 60\n",
    "Lp_prob += 4 * x + 4 * y + 4 * z <= 72\n",
    "Lp_prob += 2 * x + 4 * y + 5 * z <= 100\n",
    "  \n",
    "# Display the problem\n",
    "print(Lp_prob)\n",
    "  \n",
    "status = Lp_prob.solve()   # Solver\n",
    "print(p.LpStatus[status])   # The solution status\n",
    "  \n",
    "# Printing the final solution\n",
    "print('Optimum x value: {}\\n Optimum y value : {}\\n Optimum func value: {}'.format(p.value(x), p.value(y), p.value(Lp_prob.objective)))"
   ]
  },
  {
   "cell_type": "code",
   "execution_count": 49,
   "metadata": {},
   "outputs": [
    {
     "data": {
      "image/png": "[encoded data removed]",
      "text/plain": [
       "<Figure size 432x288 with 1 Axes>"
      ]
     },
     "metadata": {
      "needs_background": "light"
     },
     "output_type": "display_data"
    }
   ],
   "source": [
    "from mpl_toolkits import mplot3d\n",
    "\n",
    "fig = plt.figure()\n",
    "ax = plt.axes(projection = '3d')\n",
    "\n",
    "x = np.linspace(-2,16,300)\n",
    "y = np.linspace(-2,16,300)\n",
    "\n",
    "z1 <= (60 - 3*x - 5*y)/2.0\n",
    "z2 <= (72 - 4*x - 4*y)/4.0\n",
    "z3 <= (100 - 2*x - 4*y)/5.0\n",
    "\n",
    "ax.plot3D(x, y, z1, 'green')\n",
    "ax.plot3D(x, y, z2, 'red')\n",
    "ax.plot3D(x, y, z3, 'blue')\n",
    "ax.set_xlabel('x', labelpad = 20)\n",
    "ax.set_ylabel('y', labelpad = 20)\n",
    "ax.set_zlabel('z', labelpad = 20)\n",
    "plt.show()"
   ]
  },
  {
   "cell_type": "code",
   "execution_count": null,
   "metadata": {},
   "outputs": [],
   "source": []
  }
 ],
 "metadata": {
  "kernelspec": {
   "display_name": "Python 3",
   "language": "python",
   "name": "python3"
  },
  "language_info": {
   "codemirror_mode": {
    "name": "ipython",
    "version": 3
   },
   "file_extension": ".py",
   "mimetype": "text/x-python",
   "name": "python",
   "nbconvert_exporter": "python",
   "pygments_lexer": "ipython3",
   "version": "3.8.5"
  }
 },
 "nbformat": 4,
 "nbformat_minor": 4
}
